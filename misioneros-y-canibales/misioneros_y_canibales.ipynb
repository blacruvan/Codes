{
  "nbformat": 4,
  "nbformat_minor": 0,
  "metadata": {
    "colab": {
      "provenance": []
    },
    "kernelspec": {
      "name": "python3",
      "display_name": "Python 3"
    },
    "language_info": {
      "name": "python"
    }
  },
  "cells": [
    {
      "cell_type": "code",
      "execution_count": 136,
      "metadata": {
        "id": "EN-ArcsKXPrJ"
      },
      "outputs": [],
      "source": [
        "import copy;\n",
        "\n",
        "MISIONEROS = 3\n",
        "CANIBALES = 3\n",
        "\n",
        "ESTADO_INICIAL = [[0,0,False], [3,3,True]]\n",
        "ESTADO_FINAL = [[3,3,True], [0,0,False]]"
      ]
    },
    {
      "cell_type": "markdown",
      "source": [
        "Un estado se compone de dos arrays, uno para cada orilla del río. Cada array cuenta con 2 enteros y un booleano que representan respectivamente el **número de misioneros**, el **número de caníbales** y la **posición de la barca** (True si está presente en esa orilla, False si está en la otra).\n",
        "\n",
        "Cada una de las tuplas del array de 'movimientos' representan el número de misioneros y caníbales que se van a transportar en la barca."
      ],
      "metadata": {
        "id": "sbRY85yTilfl"
      }
    },
    {
      "cell_type": "code",
      "source": [
        "def seComen(estado) -> bool:\n",
        "  for orilla in estado:\n",
        "    misioneros, canibales = orilla[0], orilla[1]\n",
        "    if misioneros < canibales and misioneros >= 1 and canibales >= 1: return True\n",
        "  return False\n",
        "\n",
        "def transportar(estado, pasajeros: (int)):\n",
        "  nMisioneros, nCanibales = pasajeros[0], pasajeros[1]\n",
        "  e = copy.deepcopy(estado)\n",
        "  if e[0][2]: #orilla IZQUIERDA\n",
        "    for n in range(2):\n",
        "      e[n][0] = e[n][0]-nMisioneros if n==0 else e[n][0]+nMisioneros\n",
        "      e[n][1] = e[n][1]-nCanibales if n==0 else e[n][1]+nCanibales\n",
        "      e[n][2] = True if n == 1 else False\n",
        "\n",
        "  else:\n",
        "    for n in range(1, -1, -1): #orilla DERECHA\n",
        "      e[n][0] = e[n][0]-nMisioneros if n==1 else e[n][0]+nMisioneros\n",
        "      e[n][1] = e[n][1]-nCanibales  if n==1 else e[n][1]+nCanibales\n",
        "      e[n][2] = True if n==0 else False\n",
        "  return e\n",
        "\n",
        "def movimientoPosible(estado, movimiento: (int)) -> bool:\n",
        "  if estado[0][2]: return estado[0][0] >= movimiento[0] and estado[0][1] >= movimiento[1]\n",
        "  else: return estado[1][0] >= movimiento[0] and estado[1][1] >= movimiento[1]\n",
        "\n",
        "def movimientos(estado):\n",
        "  movimientos = [(2, 0), (0, 2), (1, 1), (1, 0), (0, 1)]\n",
        "  estados = []\n",
        "  for movimiento in movimientos:\n",
        "    if movimientoPosible(estado, movimiento):\n",
        "      resultado = transportar(estado, movimiento)\n",
        "      if not seComen(resultado): estados.append(resultado)\n",
        "  return estados"
      ],
      "metadata": {
        "id": "C2vU_kl8aSB2"
      },
      "execution_count": 137,
      "outputs": []
    },
    {
      "cell_type": "code",
      "source": [
        "def pintarEstados(path):\n",
        "  for e in path:\n",
        "    derecha, izquierda = '', ''\n",
        "    for n in range(2):\n",
        "      if n == 0:\n",
        "        m, c = e[n][0], e[n][1]\n",
        "        izquierda = ' '.join(['m' for _ in range(m)] + ['c' for _ in range(c)])\n",
        "      if n == 1:\n",
        "        m, c = e[n][0], e[n][1]\n",
        "        derecha = ' '.join(['m' for _ in range(m)] + ['c' for _ in range(c)])\n",
        "    print(\"{:>15} | {:^5} | {:<15}\".format(izquierda, '', derecha))"
      ],
      "metadata": {
        "id": "1FimeJRh2nNS"
      },
      "execution_count": 138,
      "outputs": []
    },
    {
      "cell_type": "markdown",
      "source": [
        "## Búsqueda en profundidad, **iterativa**.\n"
      ],
      "metadata": {
        "id": "inDVsy9g7w1z"
      }
    },
    {
      "cell_type": "code",
      "source": [
        "path = []\n",
        "\n",
        "abiertos, cerrados = [ESTADO_INICIAL], []\n",
        "actual = abiertos[0]\n",
        "\n",
        "while actual != ESTADO_FINAL and abiertos:\n",
        "  path.append(actual)\n",
        "  abiertos.remove(actual)\n",
        "  cerrados.append(actual)\n",
        "  hijos = movimientos(actual)\n",
        "  hijos = [h for h in hijos if h not in cerrados]\n",
        "  #abiertos = abiertos+[h for h in hijos if h not in abiertos] -> en anchura: (más lenta)\n",
        "  abiertos = [h for h in hijos if h not in abiertos]+abiertos\n",
        "  if abiertos:\n",
        "    actual = abiertos[0]\n",
        "  else:\n",
        "    break\n",
        "\n",
        "if  actual == ESTADO_FINAL:\n",
        "  path.append(ESTADO_FINAL)\n",
        "  for p in path:\n",
        "    print(p)"
      ],
      "metadata": {
        "colab": {
          "base_uri": "https://localhost:8080/"
        },
        "id": "m9RBSy5jp_Z0",
        "outputId": "63904107-72fd-4d41-e090-31e85a1c9d6e"
      },
      "execution_count": 139,
      "outputs": [
        {
          "output_type": "stream",
          "name": "stdout",
          "text": [
            "[[0, 0, False], [3, 3, True]]\n",
            "[[0, 2, True], [3, 1, False]]\n",
            "[[0, 1, False], [3, 2, True]]\n",
            "[[0, 3, True], [3, 0, False]]\n",
            "[[0, 2, False], [3, 1, True]]\n",
            "[[2, 2, True], [1, 1, False]]\n",
            "[[1, 1, False], [2, 2, True]]\n",
            "[[3, 1, True], [0, 2, False]]\n",
            "[[3, 0, False], [0, 3, True]]\n",
            "[[3, 2, True], [0, 1, False]]\n",
            "[[2, 2, False], [1, 1, True]]\n",
            "[[3, 3, True], [0, 0, False]]\n"
          ]
        }
      ]
    },
    {
      "cell_type": "code",
      "source": [
        "pintarEstados(path)"
      ],
      "metadata": {
        "colab": {
          "base_uri": "https://localhost:8080/"
        },
        "id": "rfGxxOub27qo",
        "outputId": "e3654f68-6703-47b0-e80f-31d24e3df8da"
      },
      "execution_count": 140,
      "outputs": [
        {
          "output_type": "stream",
          "name": "stdout",
          "text": [
            "                |       | m m m c c c    \n",
            "            c c |       | m m m c        \n",
            "              c |       | m m m c c      \n",
            "          c c c |       | m m m          \n",
            "            c c |       | m m m c        \n",
            "        m m c c |       | m c            \n",
            "            m c |       | m m c c        \n",
            "        m m m c |       | c c            \n",
            "          m m m |       | c c c          \n",
            "      m m m c c |       | c              \n",
            "        m m c c |       | m c            \n",
            "    m m m c c c |       |                \n"
          ]
        }
      ]
    },
    {
      "cell_type": "markdown",
      "source": [
        "## **Dijkstra**.\n"
      ],
      "metadata": {
        "id": "m6NEW_Uy8JdK"
      }
    },
    {
      "cell_type": "code",
      "source": [
        "def tupla(estado):\n",
        "  return tuple(map(tuple, estado))\n",
        "\n",
        "def Dijkstra(ESTADO_INICIAL, ESTADO_FINAL):\n",
        "  D = {}\n",
        "  abiertos, cerrados = [ESTADO_INICIAL], []\n",
        "  D[tupla(ESTADO_INICIAL)] = {\"pasos\": 0, \"padre\": None}\n",
        "\n",
        "  while abiertos:\n",
        "    m = min(abiertos, key=lambda x: D[tupla(x)]['pasos'])\n",
        "    actual = abiertos.pop(abiertos.index(m))\n",
        "    cerrados.append(actual)\n",
        "    a = tupla(actual)\n",
        "    if a not in D:\n",
        "        D[a] = {\"pasos\": float(\"+inf\"), \"padre\": None}\n",
        "    if actual == ESTADO_FINAL:\n",
        "        path=[]\n",
        "        actual=tupla(ESTADO_FINAL)\n",
        "\n",
        "        while actual!=None:\n",
        "            path.append(actual)\n",
        "            actual=D[actual][\"padre\"]\n",
        "        return path[::-1]\n",
        "\n",
        "    for hijo in movimientos(actual):\n",
        "        h = tupla(hijo)\n",
        "        if h not in D:\n",
        "            d = D[a]['pasos'] + 1\n",
        "            D[h] = {\"pasos\": d, \"padre\": a}\n",
        "        if not hijo in cerrados:\n",
        "            if D[h]['pasos'] >= D[a]['pasos'] + 1:\n",
        "                D[h]['pasos'] = D[a]['pasos'] + 1\n",
        "                abiertos.append(hijo)\n",
        "  return None\n",
        "\n",
        "path = Dijkstra(ESTADO_INICIAL, ESTADO_FINAL)\n",
        "if path is not None:\n",
        "  for p in path:\n",
        "    print(p)\n",
        "else: print('Final no encontrado')"
      ],
      "metadata": {
        "colab": {
          "base_uri": "https://localhost:8080/"
        },
        "id": "hwpI5YE98EUy",
        "outputId": "101f87f2-c2b0-4c0a-bc74-8a2df803cff1"
      },
      "execution_count": 141,
      "outputs": [
        {
          "output_type": "stream",
          "name": "stdout",
          "text": [
            "((0, 0, False), (3, 3, True))\n",
            "((0, 2, True), (3, 1, False))\n",
            "((0, 1, False), (3, 2, True))\n",
            "((0, 3, True), (3, 0, False))\n",
            "((0, 2, False), (3, 1, True))\n",
            "((2, 2, True), (1, 1, False))\n",
            "((1, 1, False), (2, 2, True))\n",
            "((3, 1, True), (0, 2, False))\n",
            "((3, 0, False), (0, 3, True))\n",
            "((3, 2, True), (0, 1, False))\n",
            "((2, 2, False), (1, 1, True))\n",
            "((3, 3, True), (0, 0, False))\n"
          ]
        }
      ]
    },
    {
      "cell_type": "code",
      "source": [
        "pintarEstados(path)"
      ],
      "metadata": {
        "colab": {
          "base_uri": "https://localhost:8080/"
        },
        "id": "bnjgO_Mc3g-L",
        "outputId": "1981f46c-1c52-4779-d511-afaafcec046e"
      },
      "execution_count": 142,
      "outputs": [
        {
          "output_type": "stream",
          "name": "stdout",
          "text": [
            "                |       | m m m c c c    \n",
            "            c c |       | m m m c        \n",
            "              c |       | m m m c c      \n",
            "          c c c |       | m m m          \n",
            "            c c |       | m m m c        \n",
            "        m m c c |       | m c            \n",
            "            m c |       | m m c c        \n",
            "        m m m c |       | c c            \n",
            "          m m m |       | c c c          \n",
            "      m m m c c |       | c              \n",
            "        m m c c |       | m c            \n",
            "    m m m c c c |       |                \n"
          ]
        }
      ]
    }
  ]
}